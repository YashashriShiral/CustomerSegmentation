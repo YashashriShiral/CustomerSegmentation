{
 "cells": [
  {
   "cell_type": "code",
   "execution_count": 1,
   "id": "65ed0413",
   "metadata": {
    "ExecuteTime": {
     "end_time": "2022-06-26T21:24:08.510093Z",
     "start_time": "2022-06-26T21:24:04.452146Z"
    }
   },
   "outputs": [],
   "source": [
    "import numpy as np\n",
    "import pandas as pd\n",
    "import pyodbc as pyodbc\n",
    "import os\n",
    "import re\n",
    "from sklearn.cluster import KMeans # K-means algorithm\n",
    "from sklearn.cluster import AgglomerativeClustering # hierarchial clustering algorithm\n",
    "from sklearn.decomposition import PCA\n",
    "import matplotlib.pyplot as plt # visualization\n",
    "import seaborn as sns # visualization\n",
    "from sklearn import preprocessing\n",
    "le = preprocessing.LabelEncoder()\n",
    "import itertools\n",
    "from sklearn import metrics\n",
    "from sklearn.impute import SimpleImputer\n",
    "from pandas.api.types import is_string_dtype, is_numeric_dtype\n",
    "from sklearn.preprocessing import OneHotEncoder\n",
    "from sklearn.metrics import silhouette_score"
   ]
  },
  {
   "cell_type": "code",
   "execution_count": 2,
   "id": "7a40f7ae",
   "metadata": {
    "ExecuteTime": {
     "end_time": "2022-06-26T21:24:13.422037Z",
     "start_time": "2022-06-26T21:24:13.352816Z"
    }
   },
   "outputs": [],
   "source": [
    "data = pd.read_csv('SegmentationData.csv')"
   ]
  },
  {
   "cell_type": "code",
   "execution_count": 3,
   "id": "a39f1809",
   "metadata": {
    "ExecuteTime": {
     "end_time": "2022-06-26T21:24:13.912464Z",
     "start_time": "2022-06-26T21:24:13.864848Z"
    }
   },
   "outputs": [
    {
     "data": {
      "text/html": [
       "<div>\n",
       "<style scoped>\n",
       "    .dataframe tbody tr th:only-of-type {\n",
       "        vertical-align: middle;\n",
       "    }\n",
       "\n",
       "    .dataframe tbody tr th {\n",
       "        vertical-align: top;\n",
       "    }\n",
       "\n",
       "    .dataframe thead th {\n",
       "        text-align: right;\n",
       "    }\n",
       "</style>\n",
       "<table border=\"1\" class=\"dataframe\">\n",
       "  <thead>\n",
       "    <tr style=\"text-align: right;\">\n",
       "      <th></th>\n",
       "      <th>ID</th>\n",
       "      <th>Gender</th>\n",
       "      <th>Ever_Married</th>\n",
       "      <th>Age</th>\n",
       "      <th>Graduated</th>\n",
       "      <th>Profession</th>\n",
       "      <th>Work_Experience</th>\n",
       "      <th>Spending_Score</th>\n",
       "      <th>Family_Size</th>\n",
       "    </tr>\n",
       "  </thead>\n",
       "  <tbody>\n",
       "    <tr>\n",
       "      <th>0</th>\n",
       "      <td>462809</td>\n",
       "      <td>Male</td>\n",
       "      <td>No</td>\n",
       "      <td>22</td>\n",
       "      <td>No</td>\n",
       "      <td>Healthcare</td>\n",
       "      <td>1.0</td>\n",
       "      <td>Low</td>\n",
       "      <td>4.0</td>\n",
       "    </tr>\n",
       "    <tr>\n",
       "      <th>1</th>\n",
       "      <td>462643</td>\n",
       "      <td>Female</td>\n",
       "      <td>Yes</td>\n",
       "      <td>38</td>\n",
       "      <td>Yes</td>\n",
       "      <td>Engineer</td>\n",
       "      <td>NaN</td>\n",
       "      <td>Average</td>\n",
       "      <td>3.0</td>\n",
       "    </tr>\n",
       "    <tr>\n",
       "      <th>2</th>\n",
       "      <td>466315</td>\n",
       "      <td>Female</td>\n",
       "      <td>Yes</td>\n",
       "      <td>67</td>\n",
       "      <td>Yes</td>\n",
       "      <td>Engineer</td>\n",
       "      <td>1.0</td>\n",
       "      <td>Low</td>\n",
       "      <td>1.0</td>\n",
       "    </tr>\n",
       "    <tr>\n",
       "      <th>3</th>\n",
       "      <td>461735</td>\n",
       "      <td>Male</td>\n",
       "      <td>Yes</td>\n",
       "      <td>67</td>\n",
       "      <td>Yes</td>\n",
       "      <td>Lawyer</td>\n",
       "      <td>0.0</td>\n",
       "      <td>High</td>\n",
       "      <td>2.0</td>\n",
       "    </tr>\n",
       "    <tr>\n",
       "      <th>4</th>\n",
       "      <td>462669</td>\n",
       "      <td>Female</td>\n",
       "      <td>Yes</td>\n",
       "      <td>40</td>\n",
       "      <td>Yes</td>\n",
       "      <td>Entertainment</td>\n",
       "      <td>NaN</td>\n",
       "      <td>High</td>\n",
       "      <td>6.0</td>\n",
       "    </tr>\n",
       "  </tbody>\n",
       "</table>\n",
       "</div>"
      ],
      "text/plain": [
       "       ID  Gender Ever_Married  Age Graduated     Profession  Work_Experience  \\\n",
       "0  462809    Male           No   22        No     Healthcare              1.0   \n",
       "1  462643  Female          Yes   38       Yes       Engineer              NaN   \n",
       "2  466315  Female          Yes   67       Yes       Engineer              1.0   \n",
       "3  461735    Male          Yes   67       Yes         Lawyer              0.0   \n",
       "4  462669  Female          Yes   40       Yes  Entertainment              NaN   \n",
       "\n",
       "  Spending_Score  Family_Size  \n",
       "0            Low          4.0  \n",
       "1        Average          3.0  \n",
       "2            Low          1.0  \n",
       "3           High          2.0  \n",
       "4           High          6.0  "
      ]
     },
     "execution_count": 3,
     "metadata": {},
     "output_type": "execute_result"
    }
   ],
   "source": [
    "data = data.drop(['Segmentation','Var_1'],axis=1)\n",
    "data.head()"
   ]
  },
  {
   "cell_type": "code",
   "execution_count": 4,
   "id": "103b1d80",
   "metadata": {
    "ExecuteTime": {
     "end_time": "2022-06-26T21:24:14.771301Z",
     "start_time": "2022-06-26T21:24:14.741417Z"
    }
   },
   "outputs": [
    {
     "name": "stdout",
     "output_type": "stream",
     "text": [
      "<class 'pandas.core.frame.DataFrame'>\n",
      "RangeIndex: 8068 entries, 0 to 8067\n",
      "Data columns (total 9 columns):\n",
      " #   Column           Non-Null Count  Dtype  \n",
      "---  ------           --------------  -----  \n",
      " 0   ID               8068 non-null   int64  \n",
      " 1   Gender           8068 non-null   object \n",
      " 2   Ever_Married     7928 non-null   object \n",
      " 3   Age              8068 non-null   int64  \n",
      " 4   Graduated        7990 non-null   object \n",
      " 5   Profession       7944 non-null   object \n",
      " 6   Work_Experience  7239 non-null   float64\n",
      " 7   Spending_Score   8068 non-null   object \n",
      " 8   Family_Size      7733 non-null   float64\n",
      "dtypes: float64(2), int64(2), object(5)\n",
      "memory usage: 567.4+ KB\n"
     ]
    }
   ],
   "source": [
    "data.info()"
   ]
  },
  {
   "cell_type": "code",
   "execution_count": 5,
   "id": "95aca027",
   "metadata": {
    "ExecuteTime": {
     "end_time": "2022-06-26T21:24:15.369668Z",
     "start_time": "2022-06-26T21:24:15.343303Z"
    }
   },
   "outputs": [
    {
     "data": {
      "text/html": [
       "<div>\n",
       "<style scoped>\n",
       "    .dataframe tbody tr th:only-of-type {\n",
       "        vertical-align: middle;\n",
       "    }\n",
       "\n",
       "    .dataframe tbody tr th {\n",
       "        vertical-align: top;\n",
       "    }\n",
       "\n",
       "    .dataframe thead th {\n",
       "        text-align: right;\n",
       "    }\n",
       "</style>\n",
       "<table border=\"1\" class=\"dataframe\">\n",
       "  <thead>\n",
       "    <tr style=\"text-align: right;\">\n",
       "      <th></th>\n",
       "      <th>index</th>\n",
       "      <th>0</th>\n",
       "    </tr>\n",
       "  </thead>\n",
       "  <tbody>\n",
       "    <tr>\n",
       "      <th>0</th>\n",
       "      <td>ID</td>\n",
       "      <td>0</td>\n",
       "    </tr>\n",
       "    <tr>\n",
       "      <th>1</th>\n",
       "      <td>Gender</td>\n",
       "      <td>0</td>\n",
       "    </tr>\n",
       "    <tr>\n",
       "      <th>2</th>\n",
       "      <td>Ever_Married</td>\n",
       "      <td>140</td>\n",
       "    </tr>\n",
       "    <tr>\n",
       "      <th>3</th>\n",
       "      <td>Age</td>\n",
       "      <td>0</td>\n",
       "    </tr>\n",
       "    <tr>\n",
       "      <th>4</th>\n",
       "      <td>Graduated</td>\n",
       "      <td>78</td>\n",
       "    </tr>\n",
       "    <tr>\n",
       "      <th>5</th>\n",
       "      <td>Profession</td>\n",
       "      <td>124</td>\n",
       "    </tr>\n",
       "    <tr>\n",
       "      <th>6</th>\n",
       "      <td>Work_Experience</td>\n",
       "      <td>829</td>\n",
       "    </tr>\n",
       "    <tr>\n",
       "      <th>7</th>\n",
       "      <td>Spending_Score</td>\n",
       "      <td>0</td>\n",
       "    </tr>\n",
       "    <tr>\n",
       "      <th>8</th>\n",
       "      <td>Family_Size</td>\n",
       "      <td>335</td>\n",
       "    </tr>\n",
       "  </tbody>\n",
       "</table>\n",
       "</div>"
      ],
      "text/plain": [
       "             index    0\n",
       "0               ID    0\n",
       "1           Gender    0\n",
       "2     Ever_Married  140\n",
       "3              Age    0\n",
       "4        Graduated   78\n",
       "5       Profession  124\n",
       "6  Work_Experience  829\n",
       "7   Spending_Score    0\n",
       "8      Family_Size  335"
      ]
     },
     "execution_count": 5,
     "metadata": {},
     "output_type": "execute_result"
    }
   ],
   "source": [
    "data.isnull().sum().reset_index()"
   ]
  },
  {
   "cell_type": "markdown",
   "id": "e3667ab0",
   "metadata": {},
   "source": [
    "# Exploratory Data Analysis"
   ]
  },
  {
   "cell_type": "code",
   "execution_count": 6,
   "id": "194bf818",
   "metadata": {
    "ExecuteTime": {
     "end_time": "2022-06-26T21:24:17.761724Z",
     "start_time": "2022-06-26T21:24:17.092538Z"
    },
    "scrolled": false
   },
   "outputs": [
    {
     "data": {
      "image/png": "[encoded data removed]",
      "text/plain": [
       "<Figure size 432x288 with 1 Axes>"
      ]
     },
     "metadata": {},
     "output_type": "display_data"
    },
    {
     "data": {
      "image/png": "[encoded data removed]",
      "text/plain": [
       "<Figure size 432x288 with 1 Axes>"
      ]
     },
     "metadata": {},
     "output_type": "display_data"
    }
   ],
   "source": [
    "col = data.columns.to_list()\n",
    "for i in range(5,(len(col)-1)):\n",
    "    if is_string_dtype(data[col[i]]):\n",
    "        data[col[i]].value_counts().plot.pie(autopct=\"%.2f\",shadow = True,cmap = 'plasma')\n",
    "        plt.show()        "
   ]
  },
  {
   "cell_type": "code",
   "execution_count": 7,
   "id": "44cb5e0b",
   "metadata": {
    "ExecuteTime": {
     "end_time": "2022-06-26T21:24:18.122161Z",
     "start_time": "2022-06-26T21:24:18.096097Z"
    }
   },
   "outputs": [
    {
     "name": "stdout",
     "output_type": "stream",
     "text": [
      "Male      4417\n",
      "Female    3651\n",
      "Name: Gender, dtype: int64\n",
      "Yes    4643\n",
      "No     3285\n",
      "Name: Ever_Married, dtype: int64\n",
      "Yes    4968\n",
      "No     3022\n",
      "Name: Graduated, dtype: int64\n",
      "Artist           2516\n",
      "Healthcare       1332\n",
      "Entertainment     949\n",
      "Engineer          699\n",
      "Doctor            688\n",
      "Lawyer            623\n",
      "Executive         599\n",
      "Marketing         292\n",
      "Homemaker         246\n",
      "Name: Profession, dtype: int64\n",
      "Low        4878\n",
      "Average    1974\n",
      "High       1216\n",
      "Name: Spending_Score, dtype: int64\n"
     ]
    }
   ],
   "source": [
    "def dist_variables(df,col):\n",
    "    \n",
    "    for i in range(1,(len(col))):\n",
    "        if is_string_dtype(df[col[i]]):\n",
    "            print(df[col[i]].value_counts())\n",
    "dist_variables(data,col)"
   ]
  },
  {
   "cell_type": "code",
   "execution_count": 42,
   "id": "ab1120d0",
   "metadata": {
    "ExecuteTime": {
     "end_time": "2022-06-26T18:40:46.433640Z",
     "start_time": "2022-06-26T18:40:46.299015Z"
    }
   },
   "outputs": [
    {
     "data": {
      "text/plain": [
       "<AxesSubplot:>"
      ]
     },
     "execution_count": 42,
     "metadata": {},
     "output_type": "execute_result"
    },
    {
     "data": {
      "image/png": "[encoded data removed]",
      "text/plain": [
       "<Figure size 432x288 with 1 Axes>"
      ]
     },
     "metadata": {
      "needs_background": "light"
     },
     "output_type": "display_data"
    }
   ],
   "source": [
    "data.boxplot(column =  ['Age'], vert=False)"
   ]
  },
  {
   "cell_type": "code",
   "execution_count": 43,
   "id": "cbfb7994",
   "metadata": {
    "ExecuteTime": {
     "end_time": "2022-06-26T18:40:48.445870Z",
     "start_time": "2022-06-26T18:40:47.160879Z"
    },
    "scrolled": true
   },
   "outputs": [
    {
     "name": "stdout",
     "output_type": "stream",
     "text": [
      "ID\n"
     ]
    },
    {
     "data": {
      "image/png": "[encoded data removed]",
      "text/plain": [
       "<Figure size 432x288 with 1 Axes>"
      ]
     },
     "metadata": {
      "needs_background": "light"
     },
     "output_type": "display_data"
    },
    {
     "name": "stdout",
     "output_type": "stream",
     "text": [
      "Gender\n"
     ]
    },
    {
     "data": {
      "image/png": "[encoded data removed]",
      "text/plain": [
       "<Figure size 432x288 with 1 Axes>"
      ]
     },
     "metadata": {
      "needs_background": "light"
     },
     "output_type": "display_data"
    },
    {
     "name": "stdout",
     "output_type": "stream",
     "text": [
      "Ever_Married\n"
     ]
    },
    {
     "data": {
      "image/png": "[encoded data removed]",
      "text/plain": [
       "<Figure size 432x288 with 1 Axes>"
      ]
     },
     "metadata": {
      "needs_background": "light"
     },
     "output_type": "display_data"
    },
    {
     "name": "stdout",
     "output_type": "stream",
     "text": [
      "Age\n"
     ]
    },
    {
     "data": {
      "image/png": "[encoded data removed]",
      "text/plain": [
       "<Figure size 432x288 with 1 Axes>"
      ]
     },
     "metadata": {
      "needs_background": "light"
     },
     "output_type": "display_data"
    },
    {
     "name": "stdout",
     "output_type": "stream",
     "text": [
      "Graduated\n"
     ]
    },
    {
     "data": {
      "image/png": "[encoded data removed]",
      "text/plain": [
       "<Figure size 432x288 with 1 Axes>"
      ]
     },
     "metadata": {
      "needs_background": "light"
     },
     "output_type": "display_data"
    },
    {
     "name": "stdout",
     "output_type": "stream",
     "text": [
      "Profession\n"
     ]
    },
    {
     "data": {
      "image/png": "[encoded data removed]",
      "text/plain": [
       "<Figure size 432x288 with 1 Axes>"
      ]
     },
     "metadata": {
      "needs_background": "light"
     },
     "output_type": "display_data"
    },
    {
     "name": "stdout",
     "output_type": "stream",
     "text": [
      "Work_Experience\n"
     ]
    },
    {
     "data": {
      "image/png": "[encoded data removed]",
      "text/plain": [
       "<Figure size 432x288 with 1 Axes>"
      ]
     },
     "metadata": {
      "needs_background": "light"
     },
     "output_type": "display_data"
    },
    {
     "name": "stdout",
     "output_type": "stream",
     "text": [
      "Spending_Score\n"
     ]
    },
    {
     "data": {
      "image/png": "[encoded data removed]",
      "text/plain": [
       "<Figure size 432x288 with 1 Axes>"
      ]
     },
     "metadata": {
      "needs_background": "light"
     },
     "output_type": "display_data"
    },
    {
     "name": "stdout",
     "output_type": "stream",
     "text": [
      "Family_Size\n"
     ]
    },
    {
     "data": {
      "image/png": "[encoded data removed]",
      "text/plain": [
       "<Figure size 432x288 with 1 Axes>"
      ]
     },
     "metadata": {
      "needs_background": "light"
     },
     "output_type": "display_data"
    }
   ],
   "source": [
    "def EDAHistogram(df,lists):\n",
    "    for i in lists:\n",
    "        print(i)\n",
    "        df[i].hist()\n",
    "        plt.show()\n",
    "        #plt.figure(figsize=(10,8),edgecolor='blue')\n",
    "    \n",
    "EDAHistogram(data,col)"
   ]
  },
  {
   "cell_type": "markdown",
   "id": "4464e994",
   "metadata": {},
   "source": [
    "Pearson Correlation for numeric variables"
   ]
  },
  {
   "cell_type": "code",
   "execution_count": 44,
   "id": "214fc1dc",
   "metadata": {
    "ExecuteTime": {
     "end_time": "2022-06-26T18:40:49.498212Z",
     "start_time": "2022-06-26T18:40:49.239634Z"
    },
    "scrolled": true
   },
   "outputs": [
    {
     "data": {
      "text/plain": [
       "<AxesSubplot:>"
      ]
     },
     "execution_count": 44,
     "metadata": {},
     "output_type": "execute_result"
    },
    {
     "data": {
      "image/png": "[encoded data removed]",
      "text/plain": [
       "<Figure size 504x360 with 2 Axes>"
      ]
     },
     "metadata": {
      "needs_background": "light"
     },
     "output_type": "display_data"
    }
   ],
   "source": [
    "correlation = data.corr(method = 'pearson')\n",
    "plt.subplots(figsize = (7,5))\n",
    "sns.heatmap(correlation, vmax= 1.0,vmin = -1.0, linewidths = 2.5)"
   ]
  },
  {
   "cell_type": "code",
   "execution_count": 45,
   "id": "dce30137",
   "metadata": {
    "ExecuteTime": {
     "end_time": "2022-06-26T18:40:50.246184Z",
     "start_time": "2022-06-26T18:40:50.234366Z"
    }
   },
   "outputs": [
    {
     "name": "stdout",
     "output_type": "stream",
     "text": [
      "35    250\n",
      "37    234\n",
      "33    232\n",
      "42    232\n",
      "40    229\n",
      "     ... \n",
      "78     29\n",
      "87     28\n",
      "76     27\n",
      "80     24\n",
      "85     22\n",
      "Name: Age, Length: 67, dtype: int64\n",
      "1.0     2354\n",
      "0.0     2318\n",
      "9.0      474\n",
      "8.0      463\n",
      "2.0      286\n",
      "3.0      255\n",
      "4.0      253\n",
      "6.0      204\n",
      "7.0      196\n",
      "5.0      194\n",
      "10.0      53\n",
      "11.0      50\n",
      "12.0      48\n",
      "13.0      46\n",
      "14.0      45\n",
      "Name: Work_Experience, dtype: int64\n",
      "2.0    2390\n",
      "3.0    1497\n",
      "1.0    1453\n",
      "4.0    1379\n",
      "5.0     612\n",
      "6.0     212\n",
      "7.0      96\n",
      "8.0      50\n",
      "9.0      44\n",
      "Name: Family_Size, dtype: int64\n"
     ]
    }
   ],
   "source": [
    "for i in range(1,(len(col))):\n",
    "    if is_numeric_dtype(data[col[i]]):\n",
    "        print(data[col[i]].value_counts())"
   ]
  },
  {
   "cell_type": "markdown",
   "id": "e4b1351f",
   "metadata": {},
   "source": [
    "# Data Cleanning"
   ]
  },
  {
   "cell_type": "code",
   "execution_count": 8,
   "id": "53eac292",
   "metadata": {
    "ExecuteTime": {
     "end_time": "2022-06-26T21:24:23.492113Z",
     "start_time": "2022-06-26T21:24:23.422403Z"
    }
   },
   "outputs": [
    {
     "data": {
      "text/html": [
       "<div>\n",
       "<style scoped>\n",
       "    .dataframe tbody tr th:only-of-type {\n",
       "        vertical-align: middle;\n",
       "    }\n",
       "\n",
       "    .dataframe tbody tr th {\n",
       "        vertical-align: top;\n",
       "    }\n",
       "\n",
       "    .dataframe thead th {\n",
       "        text-align: right;\n",
       "    }\n",
       "</style>\n",
       "<table border=\"1\" class=\"dataframe\">\n",
       "  <thead>\n",
       "    <tr style=\"text-align: right;\">\n",
       "      <th></th>\n",
       "      <th>ID</th>\n",
       "      <th>Gender</th>\n",
       "      <th>Ever_Married</th>\n",
       "      <th>Age</th>\n",
       "      <th>Graduated</th>\n",
       "      <th>Profession</th>\n",
       "      <th>Work_Experience</th>\n",
       "      <th>Spending_Score</th>\n",
       "      <th>Family_Size</th>\n",
       "    </tr>\n",
       "  </thead>\n",
       "  <tbody>\n",
       "    <tr>\n",
       "      <th>0</th>\n",
       "      <td>462809</td>\n",
       "      <td>Male</td>\n",
       "      <td>No</td>\n",
       "      <td>22</td>\n",
       "      <td>No</td>\n",
       "      <td>Healthcare</td>\n",
       "      <td>1.0</td>\n",
       "      <td>Low</td>\n",
       "      <td>4.0</td>\n",
       "    </tr>\n",
       "    <tr>\n",
       "      <th>1</th>\n",
       "      <td>462643</td>\n",
       "      <td>Female</td>\n",
       "      <td>Yes</td>\n",
       "      <td>38</td>\n",
       "      <td>Yes</td>\n",
       "      <td>Engineer</td>\n",
       "      <td>1.0</td>\n",
       "      <td>Average</td>\n",
       "      <td>3.0</td>\n",
       "    </tr>\n",
       "    <tr>\n",
       "      <th>2</th>\n",
       "      <td>466315</td>\n",
       "      <td>Female</td>\n",
       "      <td>Yes</td>\n",
       "      <td>67</td>\n",
       "      <td>Yes</td>\n",
       "      <td>Engineer</td>\n",
       "      <td>1.0</td>\n",
       "      <td>Low</td>\n",
       "      <td>1.0</td>\n",
       "    </tr>\n",
       "    <tr>\n",
       "      <th>3</th>\n",
       "      <td>461735</td>\n",
       "      <td>Male</td>\n",
       "      <td>Yes</td>\n",
       "      <td>67</td>\n",
       "      <td>Yes</td>\n",
       "      <td>Lawyer</td>\n",
       "      <td>0.0</td>\n",
       "      <td>High</td>\n",
       "      <td>2.0</td>\n",
       "    </tr>\n",
       "    <tr>\n",
       "      <th>4</th>\n",
       "      <td>462669</td>\n",
       "      <td>Female</td>\n",
       "      <td>Yes</td>\n",
       "      <td>40</td>\n",
       "      <td>Yes</td>\n",
       "      <td>Entertainment</td>\n",
       "      <td>1.0</td>\n",
       "      <td>High</td>\n",
       "      <td>6.0</td>\n",
       "    </tr>\n",
       "  </tbody>\n",
       "</table>\n",
       "</div>"
      ],
      "text/plain": [
       "       ID  Gender Ever_Married  Age Graduated     Profession  Work_Experience  \\\n",
       "0  462809    Male           No   22        No     Healthcare              1.0   \n",
       "1  462643  Female          Yes   38       Yes       Engineer              1.0   \n",
       "2  466315  Female          Yes   67       Yes       Engineer              1.0   \n",
       "3  461735    Male          Yes   67       Yes         Lawyer              0.0   \n",
       "4  462669  Female          Yes   40       Yes  Entertainment              1.0   \n",
       "\n",
       "  Spending_Score  Family_Size  \n",
       "0            Low          4.0  \n",
       "1        Average          3.0  \n",
       "2            Low          1.0  \n",
       "3           High          2.0  \n",
       "4           High          6.0  "
      ]
     },
     "execution_count": 8,
     "metadata": {},
     "output_type": "execute_result"
    }
   ],
   "source": [
    "def Data_Cleaning(df):\n",
    "    cat_list = []\n",
    "    num_list = []\n",
    "    for column in df:\n",
    "        if is_string_dtype(df[column]):\n",
    "            cat_list.append(column)\n",
    "        if is_numeric_dtype(df[column]):\n",
    "            num_list.append(column)\n",
    "    # Imputing data with most common class for categorical variables\n",
    "    clean_data = df.copy()\n",
    "    clean_data[cat_list] = df[cat_list].apply(lambda x: x.fillna(x.value_counts().index[0]))\n",
    "    # Imputing data with median value\n",
    "    clean_data[num_list] = df[num_list].apply(lambda x: x.fillna(x.median()))\n",
    "    return(clean_data,cat_list,num_list)\n",
    "clean_data,cat_list,num_list = Data_Cleaning(data)\n",
    "clean_data.head()"
   ]
  },
  {
   "cell_type": "code",
   "execution_count": 47,
   "id": "77e29355",
   "metadata": {
    "ExecuteTime": {
     "end_time": "2022-06-26T18:40:51.877180Z",
     "start_time": "2022-06-26T18:40:51.862710Z"
    }
   },
   "outputs": [
    {
     "data": {
      "text/plain": [
       "ID                 0\n",
       "Gender             0\n",
       "Ever_Married       0\n",
       "Age                0\n",
       "Graduated          0\n",
       "Profession         0\n",
       "Work_Experience    0\n",
       "Spending_Score     0\n",
       "Family_Size        0\n",
       "dtype: int64"
      ]
     },
     "execution_count": 47,
     "metadata": {},
     "output_type": "execute_result"
    }
   ],
   "source": [
    "clean_data.isnull().sum()"
   ]
  },
  {
   "cell_type": "code",
   "execution_count": 48,
   "id": "ffe4a68f",
   "metadata": {
    "ExecuteTime": {
     "end_time": "2022-06-26T18:40:52.636918Z",
     "start_time": "2022-06-26T18:40:52.622884Z"
    }
   },
   "outputs": [
    {
     "name": "stdout",
     "output_type": "stream",
     "text": [
      "<class 'pandas.core.frame.DataFrame'>\n",
      "RangeIndex: 8068 entries, 0 to 8067\n",
      "Data columns (total 9 columns):\n",
      " #   Column           Non-Null Count  Dtype  \n",
      "---  ------           --------------  -----  \n",
      " 0   ID               8068 non-null   int64  \n",
      " 1   Gender           8068 non-null   object \n",
      " 2   Ever_Married     8068 non-null   object \n",
      " 3   Age              8068 non-null   int64  \n",
      " 4   Graduated        8068 non-null   object \n",
      " 5   Profession       8068 non-null   object \n",
      " 6   Work_Experience  8068 non-null   float64\n",
      " 7   Spending_Score   8068 non-null   object \n",
      " 8   Family_Size      8068 non-null   float64\n",
      "dtypes: float64(2), int64(2), object(5)\n",
      "memory usage: 567.4+ KB\n"
     ]
    }
   ],
   "source": [
    "clean_data.info()"
   ]
  },
  {
   "cell_type": "code",
   "execution_count": 49,
   "id": "44b7cba4",
   "metadata": {
    "ExecuteTime": {
     "end_time": "2022-06-26T18:40:53.367371Z",
     "start_time": "2022-06-26T18:40:53.360095Z"
    }
   },
   "outputs": [],
   "source": [
    "#You can use SimpleImputer package for imputing data\n",
    "# from sklearn.impute import SimpleImputer\n",
    "# new_data = data.copy()\n",
    "# # Imputation\n",
    "# my_imputer = SimpleImputer(strategy = 'median')\n",
    "# new_data = pd.DataFrame(my_imputer.fit_transform(new_data[['Family_Size','Work_Experience','Age']]))\n",
    "# new_data.columns = ['Family_Size','Work_Experience','Age']"
   ]
  },
  {
   "cell_type": "markdown",
   "id": "bf81ad4e",
   "metadata": {},
   "source": [
    "# Label Encoding"
   ]
  },
  {
   "cell_type": "code",
   "execution_count": 9,
   "id": "a0fc4355",
   "metadata": {
    "ExecuteTime": {
     "end_time": "2022-06-26T21:24:27.852163Z",
     "start_time": "2022-06-26T21:24:27.775067Z"
    }
   },
   "outputs": [
    {
     "name": "stderr",
     "output_type": "stream",
     "text": [
      "C:\\Users\\shiryas\\Anaconda3\\lib\\site-packages\\sklearn\\utils\\deprecation.py:87: FutureWarning: Function get_feature_names is deprecated; get_feature_names is deprecated in 1.0 and will be removed in 1.2. Please use get_feature_names_out instead.\n",
      "  warnings.warn(msg, category=FutureWarning)\n"
     ]
    },
    {
     "data": {
      "text/html": [
       "<div>\n",
       "<style scoped>\n",
       "    .dataframe tbody tr th:only-of-type {\n",
       "        vertical-align: middle;\n",
       "    }\n",
       "\n",
       "    .dataframe tbody tr th {\n",
       "        vertical-align: top;\n",
       "    }\n",
       "\n",
       "    .dataframe thead th {\n",
       "        text-align: right;\n",
       "    }\n",
       "</style>\n",
       "<table border=\"1\" class=\"dataframe\">\n",
       "  <thead>\n",
       "    <tr style=\"text-align: right;\">\n",
       "      <th></th>\n",
       "      <th>ID</th>\n",
       "      <th>Age</th>\n",
       "      <th>Work_Experience</th>\n",
       "      <th>Family_Size</th>\n",
       "      <th>Gender_Female</th>\n",
       "      <th>Gender_Male</th>\n",
       "      <th>Ever_Married_No</th>\n",
       "      <th>Ever_Married_Yes</th>\n",
       "      <th>Graduated_No</th>\n",
       "      <th>Graduated_Yes</th>\n",
       "      <th>...</th>\n",
       "      <th>Profession_Engineer</th>\n",
       "      <th>Profession_Entertainment</th>\n",
       "      <th>Profession_Executive</th>\n",
       "      <th>Profession_Healthcare</th>\n",
       "      <th>Profession_Homemaker</th>\n",
       "      <th>Profession_Lawyer</th>\n",
       "      <th>Profession_Marketing</th>\n",
       "      <th>Spending_Score_Average</th>\n",
       "      <th>Spending_Score_High</th>\n",
       "      <th>Spending_Score_Low</th>\n",
       "    </tr>\n",
       "  </thead>\n",
       "  <tbody>\n",
       "    <tr>\n",
       "      <th>0</th>\n",
       "      <td>462809</td>\n",
       "      <td>22</td>\n",
       "      <td>1.0</td>\n",
       "      <td>4.0</td>\n",
       "      <td>0</td>\n",
       "      <td>1</td>\n",
       "      <td>1</td>\n",
       "      <td>0</td>\n",
       "      <td>1</td>\n",
       "      <td>0</td>\n",
       "      <td>...</td>\n",
       "      <td>0</td>\n",
       "      <td>0</td>\n",
       "      <td>0</td>\n",
       "      <td>1</td>\n",
       "      <td>0</td>\n",
       "      <td>0</td>\n",
       "      <td>0</td>\n",
       "      <td>0</td>\n",
       "      <td>0</td>\n",
       "      <td>1</td>\n",
       "    </tr>\n",
       "    <tr>\n",
       "      <th>1</th>\n",
       "      <td>462643</td>\n",
       "      <td>38</td>\n",
       "      <td>1.0</td>\n",
       "      <td>3.0</td>\n",
       "      <td>1</td>\n",
       "      <td>0</td>\n",
       "      <td>0</td>\n",
       "      <td>1</td>\n",
       "      <td>0</td>\n",
       "      <td>1</td>\n",
       "      <td>...</td>\n",
       "      <td>1</td>\n",
       "      <td>0</td>\n",
       "      <td>0</td>\n",
       "      <td>0</td>\n",
       "      <td>0</td>\n",
       "      <td>0</td>\n",
       "      <td>0</td>\n",
       "      <td>1</td>\n",
       "      <td>0</td>\n",
       "      <td>0</td>\n",
       "    </tr>\n",
       "    <tr>\n",
       "      <th>2</th>\n",
       "      <td>466315</td>\n",
       "      <td>67</td>\n",
       "      <td>1.0</td>\n",
       "      <td>1.0</td>\n",
       "      <td>1</td>\n",
       "      <td>0</td>\n",
       "      <td>0</td>\n",
       "      <td>1</td>\n",
       "      <td>0</td>\n",
       "      <td>1</td>\n",
       "      <td>...</td>\n",
       "      <td>1</td>\n",
       "      <td>0</td>\n",
       "      <td>0</td>\n",
       "      <td>0</td>\n",
       "      <td>0</td>\n",
       "      <td>0</td>\n",
       "      <td>0</td>\n",
       "      <td>0</td>\n",
       "      <td>0</td>\n",
       "      <td>1</td>\n",
       "    </tr>\n",
       "    <tr>\n",
       "      <th>3</th>\n",
       "      <td>461735</td>\n",
       "      <td>67</td>\n",
       "      <td>0.0</td>\n",
       "      <td>2.0</td>\n",
       "      <td>0</td>\n",
       "      <td>1</td>\n",
       "      <td>0</td>\n",
       "      <td>1</td>\n",
       "      <td>0</td>\n",
       "      <td>1</td>\n",
       "      <td>...</td>\n",
       "      <td>0</td>\n",
       "      <td>0</td>\n",
       "      <td>0</td>\n",
       "      <td>0</td>\n",
       "      <td>0</td>\n",
       "      <td>1</td>\n",
       "      <td>0</td>\n",
       "      <td>0</td>\n",
       "      <td>1</td>\n",
       "      <td>0</td>\n",
       "    </tr>\n",
       "    <tr>\n",
       "      <th>4</th>\n",
       "      <td>462669</td>\n",
       "      <td>40</td>\n",
       "      <td>1.0</td>\n",
       "      <td>6.0</td>\n",
       "      <td>1</td>\n",
       "      <td>0</td>\n",
       "      <td>0</td>\n",
       "      <td>1</td>\n",
       "      <td>0</td>\n",
       "      <td>1</td>\n",
       "      <td>...</td>\n",
       "      <td>0</td>\n",
       "      <td>1</td>\n",
       "      <td>0</td>\n",
       "      <td>0</td>\n",
       "      <td>0</td>\n",
       "      <td>0</td>\n",
       "      <td>0</td>\n",
       "      <td>0</td>\n",
       "      <td>1</td>\n",
       "      <td>0</td>\n",
       "    </tr>\n",
       "  </tbody>\n",
       "</table>\n",
       "<p>5 rows × 22 columns</p>\n",
       "</div>"
      ],
      "text/plain": [
       "       ID  Age  Work_Experience  Family_Size  Gender_Female  Gender_Male  \\\n",
       "0  462809   22              1.0          4.0              0            1   \n",
       "1  462643   38              1.0          3.0              1            0   \n",
       "2  466315   67              1.0          1.0              1            0   \n",
       "3  461735   67              0.0          2.0              0            1   \n",
       "4  462669   40              1.0          6.0              1            0   \n",
       "\n",
       "   Ever_Married_No  Ever_Married_Yes  Graduated_No  Graduated_Yes  ...  \\\n",
       "0                1                 0             1              0  ...   \n",
       "1                0                 1             0              1  ...   \n",
       "2                0                 1             0              1  ...   \n",
       "3                0                 1             0              1  ...   \n",
       "4                0                 1             0              1  ...   \n",
       "\n",
       "   Profession_Engineer  Profession_Entertainment  Profession_Executive  \\\n",
       "0                    0                         0                     0   \n",
       "1                    1                         0                     0   \n",
       "2                    1                         0                     0   \n",
       "3                    0                         0                     0   \n",
       "4                    0                         1                     0   \n",
       "\n",
       "   Profession_Healthcare  Profession_Homemaker  Profession_Lawyer  \\\n",
       "0                      1                     0                  0   \n",
       "1                      0                     0                  0   \n",
       "2                      0                     0                  0   \n",
       "3                      0                     0                  1   \n",
       "4                      0                     0                  0   \n",
       "\n",
       "   Profession_Marketing  Spending_Score_Average  Spending_Score_High  \\\n",
       "0                     0                       0                    0   \n",
       "1                     0                       1                    0   \n",
       "2                     0                       0                    0   \n",
       "3                     0                       0                    1   \n",
       "4                     0                       0                    1   \n",
       "\n",
       "   Spending_Score_Low  \n",
       "0                   1  \n",
       "1                   0  \n",
       "2                   1  \n",
       "3                   0  \n",
       "4                   0  \n",
       "\n",
       "[5 rows x 22 columns]"
      ]
     },
     "execution_count": 9,
     "metadata": {},
     "output_type": "execute_result"
    }
   ],
   "source": [
    "def One_Hot_Encoding(df):\n",
    "    OHE = OneHotEncoder(handle_unknown = 'error')\n",
    "    OHC = OHE.fit_transform(df[cat_list]).toarray()\n",
    "    OHFN = OHE.get_feature_names(cat_list)\n",
    "    OHEdf = pd.DataFrame(OHC, columns=OHFN).astype(int).reset_index(drop=True)\n",
    "    df_transformed = pd.concat([df,OHEdf],axis=1).reset_index(drop=True)\n",
    "    data2 = df_transformed.drop(labels = cat_list, axis=1)\n",
    "    return(data2)\n",
    "data2 = One_Hot_Encoding(clean_data)\n",
    "data2.head()"
   ]
  },
  {
   "cell_type": "code",
   "execution_count": 10,
   "id": "a3fd0095",
   "metadata": {
    "ExecuteTime": {
     "end_time": "2022-06-26T21:24:30.782479Z",
     "start_time": "2022-06-26T21:24:30.723244Z"
    }
   },
   "outputs": [
    {
     "data": {
      "text/html": [
       "<div>\n",
       "<style scoped>\n",
       "    .dataframe tbody tr th:only-of-type {\n",
       "        vertical-align: middle;\n",
       "    }\n",
       "\n",
       "    .dataframe tbody tr th {\n",
       "        vertical-align: top;\n",
       "    }\n",
       "\n",
       "    .dataframe thead th {\n",
       "        text-align: right;\n",
       "    }\n",
       "</style>\n",
       "<table border=\"1\" class=\"dataframe\">\n",
       "  <thead>\n",
       "    <tr style=\"text-align: right;\">\n",
       "      <th></th>\n",
       "      <th>ID</th>\n",
       "      <th>Gender</th>\n",
       "      <th>Ever_Married</th>\n",
       "      <th>Age</th>\n",
       "      <th>Graduated</th>\n",
       "      <th>Profession</th>\n",
       "      <th>Work_Experience</th>\n",
       "      <th>Spending_Score</th>\n",
       "      <th>Family_Size</th>\n",
       "    </tr>\n",
       "  </thead>\n",
       "  <tbody>\n",
       "    <tr>\n",
       "      <th>0</th>\n",
       "      <td>462809</td>\n",
       "      <td>1</td>\n",
       "      <td>0</td>\n",
       "      <td>22</td>\n",
       "      <td>0</td>\n",
       "      <td>5</td>\n",
       "      <td>1.0</td>\n",
       "      <td>2</td>\n",
       "      <td>4.0</td>\n",
       "    </tr>\n",
       "    <tr>\n",
       "      <th>1</th>\n",
       "      <td>462643</td>\n",
       "      <td>0</td>\n",
       "      <td>1</td>\n",
       "      <td>38</td>\n",
       "      <td>1</td>\n",
       "      <td>2</td>\n",
       "      <td>1.0</td>\n",
       "      <td>0</td>\n",
       "      <td>3.0</td>\n",
       "    </tr>\n",
       "    <tr>\n",
       "      <th>2</th>\n",
       "      <td>466315</td>\n",
       "      <td>0</td>\n",
       "      <td>1</td>\n",
       "      <td>67</td>\n",
       "      <td>1</td>\n",
       "      <td>2</td>\n",
       "      <td>1.0</td>\n",
       "      <td>2</td>\n",
       "      <td>1.0</td>\n",
       "    </tr>\n",
       "    <tr>\n",
       "      <th>3</th>\n",
       "      <td>461735</td>\n",
       "      <td>1</td>\n",
       "      <td>1</td>\n",
       "      <td>67</td>\n",
       "      <td>1</td>\n",
       "      <td>7</td>\n",
       "      <td>0.0</td>\n",
       "      <td>1</td>\n",
       "      <td>2.0</td>\n",
       "    </tr>\n",
       "    <tr>\n",
       "      <th>4</th>\n",
       "      <td>462669</td>\n",
       "      <td>0</td>\n",
       "      <td>1</td>\n",
       "      <td>40</td>\n",
       "      <td>1</td>\n",
       "      <td>3</td>\n",
       "      <td>1.0</td>\n",
       "      <td>1</td>\n",
       "      <td>6.0</td>\n",
       "    </tr>\n",
       "  </tbody>\n",
       "</table>\n",
       "</div>"
      ],
      "text/plain": [
       "       ID  Gender  Ever_Married  Age  Graduated  Profession  Work_Experience  \\\n",
       "0  462809       1             0   22          0           5              1.0   \n",
       "1  462643       0             1   38          1           2              1.0   \n",
       "2  466315       0             1   67          1           2              1.0   \n",
       "3  461735       1             1   67          1           7              0.0   \n",
       "4  462669       0             1   40          1           3              1.0   \n",
       "\n",
       "   Spending_Score  Family_Size  \n",
       "0               2          4.0  \n",
       "1               0          3.0  \n",
       "2               2          1.0  \n",
       "3               1          2.0  \n",
       "4               1          6.0  "
      ]
     },
     "execution_count": 10,
     "metadata": {},
     "output_type": "execute_result"
    }
   ],
   "source": [
    "#Label Encoding\n",
    "clean_data_copy = clean_data.copy()\n",
    "for i in clean_data_copy[cat_list]:\n",
    "    clean_data_copy[i] = le.fit_transform(clean_data_copy[i])\n",
    "clean_data_copy.head()"
   ]
  },
  {
   "cell_type": "code",
   "execution_count": 58,
   "id": "44c0e5e0",
   "metadata": {
    "ExecuteTime": {
     "end_time": "2022-06-26T18:44:16.129184Z",
     "start_time": "2022-06-26T18:44:16.114606Z"
    }
   },
   "outputs": [
    {
     "data": {
      "text/plain": [
       "Index(['ID', 'Gender', 'Ever_Married', 'Age', 'Graduated', 'Profession',\n",
       "       'Work_Experience', 'Spending_Score', 'Family_Size'],\n",
       "      dtype='object')"
      ]
     },
     "execution_count": 58,
     "metadata": {},
     "output_type": "execute_result"
    }
   ],
   "source": [
    "clean_data_copy.columns"
   ]
  },
  {
   "cell_type": "markdown",
   "id": "86bb68ee",
   "metadata": {},
   "source": [
    "# Pearson Correlation"
   ]
  },
  {
   "cell_type": "code",
   "execution_count": 52,
   "id": "df58e43a",
   "metadata": {
    "ExecuteTime": {
     "end_time": "2022-06-26T18:40:56.014046Z",
     "start_time": "2022-06-26T18:40:55.592077Z"
    }
   },
   "outputs": [
    {
     "data": {
      "text/plain": [
       "<AxesSubplot:>"
      ]
     },
     "execution_count": 52,
     "metadata": {},
     "output_type": "execute_result"
    },
    {
     "data": {
      "image/png": "[encoded data removed]",
      "text/plain": [
       "<Figure size 504x360 with 2 Axes>"
      ]
     },
     "metadata": {
      "needs_background": "light"
     },
     "output_type": "display_data"
    }
   ],
   "source": [
    "correlation = clean_data_copy.corr(method = 'pearson')\n",
    "plt.subplots(figsize = (7,5))\n",
    "sns.heatmap(correlation, vmax= 1.0,vmin = -1.0, linewidths = 2.5)"
   ]
  },
  {
   "cell_type": "code",
   "execution_count": 57,
   "id": "16f3db30",
   "metadata": {
    "ExecuteTime": {
     "end_time": "2022-06-26T18:43:10.315957Z",
     "start_time": "2022-06-26T18:43:09.561796Z"
    }
   },
   "outputs": [
    {
     "data": {
      "text/plain": [
       "<AxesSubplot:>"
      ]
     },
     "execution_count": 57,
     "metadata": {},
     "output_type": "execute_result"
    },
    {
     "data": {
      "image/png": "[encoded data removed]",
      "text/plain": [
       "<Figure size 504x360 with 2 Axes>"
      ]
     },
     "metadata": {
      "needs_background": "light"
     },
     "output_type": "display_data"
    }
   ],
   "source": [
    "correlation = data2.corr(method = 'pearson')\n",
    "plt.subplots(figsize = (7,5))\n",
    "sns.heatmap(correlation, vmax= 1.0,vmin = -1.0, linewidths = 2.5)"
   ]
  },
  {
   "cell_type": "markdown",
   "id": "db9c13e2",
   "metadata": {},
   "source": [
    "# Standardizing Data"
   ]
  },
  {
   "cell_type": "code",
   "execution_count": 11,
   "id": "4ce518d0",
   "metadata": {
    "ExecuteTime": {
     "end_time": "2022-06-26T21:24:38.812176Z",
     "start_time": "2022-06-26T21:24:38.723426Z"
    }
   },
   "outputs": [
    {
     "data": {
      "text/html": [
       "<div>\n",
       "<style scoped>\n",
       "    .dataframe tbody tr th:only-of-type {\n",
       "        vertical-align: middle;\n",
       "    }\n",
       "\n",
       "    .dataframe tbody tr th {\n",
       "        vertical-align: top;\n",
       "    }\n",
       "\n",
       "    .dataframe thead th {\n",
       "        text-align: right;\n",
       "    }\n",
       "</style>\n",
       "<table border=\"1\" class=\"dataframe\">\n",
       "  <thead>\n",
       "    <tr style=\"text-align: right;\">\n",
       "      <th></th>\n",
       "      <th>ID</th>\n",
       "      <th>Gender</th>\n",
       "      <th>Ever_Married</th>\n",
       "      <th>Age</th>\n",
       "      <th>Graduated</th>\n",
       "      <th>Profession</th>\n",
       "      <th>Work_Experience</th>\n",
       "      <th>Spending_Score</th>\n",
       "      <th>Family_Size</th>\n",
       "    </tr>\n",
       "  </thead>\n",
       "  <tbody>\n",
       "    <tr>\n",
       "      <th>0</th>\n",
       "      <td>-0.258234</td>\n",
       "      <td>0.909108</td>\n",
       "      <td>-1.206579</td>\n",
       "      <td>-1.284544</td>\n",
       "      <td>-1.292110</td>\n",
       "      <td>0.886552</td>\n",
       "      <td>-0.451108</td>\n",
       "      <td>0.754415</td>\n",
       "      <td>0.762651</td>\n",
       "    </tr>\n",
       "    <tr>\n",
       "      <th>1</th>\n",
       "      <td>-0.322193</td>\n",
       "      <td>-1.099843</td>\n",
       "      <td>0.828687</td>\n",
       "      <td>-0.327131</td>\n",
       "      <td>0.773832</td>\n",
       "      <td>-0.293892</td>\n",
       "      <td>-0.451108</td>\n",
       "      <td>-1.602913</td>\n",
       "      <td>0.095796</td>\n",
       "    </tr>\n",
       "    <tr>\n",
       "      <th>2</th>\n",
       "      <td>1.092628</td>\n",
       "      <td>-1.099843</td>\n",
       "      <td>0.828687</td>\n",
       "      <td>1.408181</td>\n",
       "      <td>0.773832</td>\n",
       "      <td>-0.293892</td>\n",
       "      <td>-0.451108</td>\n",
       "      <td>0.754415</td>\n",
       "      <td>-1.237913</td>\n",
       "    </tr>\n",
       "    <tr>\n",
       "      <th>3</th>\n",
       "      <td>-0.672046</td>\n",
       "      <td>0.909108</td>\n",
       "      <td>0.828687</td>\n",
       "      <td>1.408181</td>\n",
       "      <td>0.773832</td>\n",
       "      <td>1.673514</td>\n",
       "      <td>-0.757363</td>\n",
       "      <td>-0.424249</td>\n",
       "      <td>-0.571059</td>\n",
       "    </tr>\n",
       "    <tr>\n",
       "      <th>4</th>\n",
       "      <td>-0.312176</td>\n",
       "      <td>-1.099843</td>\n",
       "      <td>0.828687</td>\n",
       "      <td>-0.207454</td>\n",
       "      <td>0.773832</td>\n",
       "      <td>0.099590</td>\n",
       "      <td>-0.451108</td>\n",
       "      <td>-0.424249</td>\n",
       "      <td>2.096361</td>\n",
       "    </tr>\n",
       "  </tbody>\n",
       "</table>\n",
       "</div>"
      ],
      "text/plain": [
       "         ID    Gender  Ever_Married       Age  Graduated  Profession  \\\n",
       "0 -0.258234  0.909108     -1.206579 -1.284544  -1.292110    0.886552   \n",
       "1 -0.322193 -1.099843      0.828687 -0.327131   0.773832   -0.293892   \n",
       "2  1.092628 -1.099843      0.828687  1.408181   0.773832   -0.293892   \n",
       "3 -0.672046  0.909108      0.828687  1.408181   0.773832    1.673514   \n",
       "4 -0.312176 -1.099843      0.828687 -0.207454   0.773832    0.099590   \n",
       "\n",
       "   Work_Experience  Spending_Score  Family_Size  \n",
       "0        -0.451108        0.754415     0.762651  \n",
       "1        -0.451108       -1.602913     0.095796  \n",
       "2        -0.451108        0.754415    -1.237913  \n",
       "3        -0.757363       -0.424249    -0.571059  \n",
       "4        -0.451108       -0.424249     2.096361  "
      ]
     },
     "execution_count": 11,
     "metadata": {},
     "output_type": "execute_result"
    }
   ],
   "source": [
    "def Standardize_Data(df):\n",
    "    std_df =pd.DataFrame()\n",
    "    for i in df:\n",
    "        std_df[i]=(df[i]-df[i].mean())/df[i].std()\n",
    "    return(std_df)\n",
    "data_std = Standardize_Data(clean_data_copy)\n",
    "data_stdOHE = Standardize_Data(data2)\n",
    "data_std.head()"
   ]
  },
  {
   "cell_type": "markdown",
   "id": "b5ad6bfa",
   "metadata": {},
   "source": [
    "# K-means Clustering"
   ]
  },
  {
   "cell_type": "code",
   "execution_count": 12,
   "id": "d79901f7",
   "metadata": {
    "ExecuteTime": {
     "end_time": "2022-06-26T21:24:46.372248Z",
     "start_time": "2022-06-26T21:24:46.348503Z"
    }
   },
   "outputs": [],
   "source": [
    "def ClusteringFun(std,df,clusters,MlC):\n",
    "\n",
    "    Sum_of_squared_distances = []\n",
    "    K = range(1,10)\n",
    "    for num_clusters in K :\n",
    "        kmeans = KMeans(n_clusters=num_clusters)\n",
    "        kmeans.fit(std)\n",
    "        Sum_of_squared_distances.append(kmeans.inertia_)\n",
    "    plt.plot(K,Sum_of_squared_distances,'bx-')\n",
    "    plt.xlabel('Values of K') \n",
    "    plt.ylabel('Sum of squared distances/Inertia') \n",
    "    plt.title('Elbow Method For Optimal k')\n",
    "    plt.show()\n",
    "    # get centroids\n",
    "    centroids = kmeans.cluster_centers_\n",
    "    cen_x = [i[0] for i in centroids] \n",
    "    cen_y = [i[1] for i in centroids]\n",
    "    #model\n",
    "    model = KMeans(init = 'k-means++', n_clusters = clusters, n_init = 20, \n",
    "                   ## number of times the model will be run with different starting centroids\n",
    "                   random_state=5)\n",
    "    model.fit(std)\n",
    "    #Profiling K-means clustering with ML\n",
    "    labels = model.labels_\n",
    "    MlC['clusters']=labels\n",
    "\n",
    "    #Profiling K-means clustering with ML\n",
    "    df['Clusters'] = MlC['clusters']\n",
    "\n",
    "    # silhouette score is used to calculate goodness of cluster. CLoser the score to 1 considered as good clustering model\n",
    "    x = silhouette_score(std, labels, metric='euclidean')\n",
    "    print(\"silhouette score: \", x)\n",
    "    return(df, labels,model)"
   ]
  },
  {
   "cell_type": "code",
   "execution_count": 13,
   "id": "22b14ad2",
   "metadata": {
    "ExecuteTime": {
     "end_time": "2022-06-26T21:24:53.571717Z",
     "start_time": "2022-06-26T21:24:47.585620Z"
    }
   },
   "outputs": [
    {
     "data": {
      "image/png": "[encoded data removed]",
      "text/plain": [
       "<Figure size 432x288 with 1 Axes>"
      ]
     },
     "metadata": {
      "needs_background": "light"
     },
     "output_type": "display_data"
    },
    {
     "name": "stdout",
     "output_type": "stream",
     "text": [
      "silhouette score:  0.1834843368261574\n"
     ]
    }
   ],
   "source": [
    "data3,labels,model = ClusteringFun(data_std,data,4,clean_data)"
   ]
  },
  {
   "cell_type": "code",
   "execution_count": 14,
   "id": "2b023cf3",
   "metadata": {
    "ExecuteTime": {
     "end_time": "2022-06-26T21:25:00.362317Z",
     "start_time": "2022-06-26T21:24:54.920062Z"
    }
   },
   "outputs": [
    {
     "data": {
      "image/png": "[encoded data removed]",
      "text/plain": [
       "<Figure size 432x288 with 1 Axes>"
      ]
     },
     "metadata": {
      "needs_background": "light"
     },
     "output_type": "display_data"
    },
    {
     "name": "stdout",
     "output_type": "stream",
     "text": [
      "silhouette score:  0.15481401263501823\n"
     ]
    }
   ],
   "source": [
    "data33,labels,model = ClusteringFun(data_stdOHE,data,4,data2)"
   ]
  },
  {
   "cell_type": "markdown",
   "id": "766baa74",
   "metadata": {},
   "source": [
    "# Build a persona"
   ]
  },
  {
   "cell_type": "code",
   "execution_count": 15,
   "id": "38f6e018",
   "metadata": {
    "ExecuteTime": {
     "end_time": "2022-06-26T21:25:12.891534Z",
     "start_time": "2022-06-26T21:25:12.852567Z"
    }
   },
   "outputs": [
    {
     "data": {
      "text/html": [
       "<div>\n",
       "<style scoped>\n",
       "    .dataframe tbody tr th:only-of-type {\n",
       "        vertical-align: middle;\n",
       "    }\n",
       "\n",
       "    .dataframe tbody tr th {\n",
       "        vertical-align: top;\n",
       "    }\n",
       "\n",
       "    .dataframe thead th {\n",
       "        text-align: right;\n",
       "    }\n",
       "</style>\n",
       "<table border=\"1\" class=\"dataframe\">\n",
       "  <thead>\n",
       "    <tr style=\"text-align: right;\">\n",
       "      <th></th>\n",
       "      <th>ID</th>\n",
       "      <th>Gender</th>\n",
       "      <th>Ever_Married</th>\n",
       "      <th>Age</th>\n",
       "      <th>Graduated</th>\n",
       "      <th>Profession</th>\n",
       "      <th>Work_Experience</th>\n",
       "      <th>Spending_Score</th>\n",
       "      <th>Family_Size</th>\n",
       "      <th>Clusters</th>\n",
       "    </tr>\n",
       "  </thead>\n",
       "  <tbody>\n",
       "    <tr>\n",
       "      <th>0</th>\n",
       "      <td>462809</td>\n",
       "      <td>Male</td>\n",
       "      <td>No</td>\n",
       "      <td>22</td>\n",
       "      <td>No</td>\n",
       "      <td>Healthcare</td>\n",
       "      <td>1.0</td>\n",
       "      <td>Low</td>\n",
       "      <td>4.0</td>\n",
       "      <td>1</td>\n",
       "    </tr>\n",
       "    <tr>\n",
       "      <th>1</th>\n",
       "      <td>462643</td>\n",
       "      <td>Female</td>\n",
       "      <td>Yes</td>\n",
       "      <td>38</td>\n",
       "      <td>Yes</td>\n",
       "      <td>Engineer</td>\n",
       "      <td>NaN</td>\n",
       "      <td>Average</td>\n",
       "      <td>3.0</td>\n",
       "      <td>0</td>\n",
       "    </tr>\n",
       "    <tr>\n",
       "      <th>2</th>\n",
       "      <td>466315</td>\n",
       "      <td>Female</td>\n",
       "      <td>Yes</td>\n",
       "      <td>67</td>\n",
       "      <td>Yes</td>\n",
       "      <td>Engineer</td>\n",
       "      <td>1.0</td>\n",
       "      <td>Low</td>\n",
       "      <td>1.0</td>\n",
       "      <td>2</td>\n",
       "    </tr>\n",
       "    <tr>\n",
       "      <th>3</th>\n",
       "      <td>461735</td>\n",
       "      <td>Male</td>\n",
       "      <td>Yes</td>\n",
       "      <td>67</td>\n",
       "      <td>Yes</td>\n",
       "      <td>Lawyer</td>\n",
       "      <td>0.0</td>\n",
       "      <td>High</td>\n",
       "      <td>2.0</td>\n",
       "      <td>3</td>\n",
       "    </tr>\n",
       "    <tr>\n",
       "      <th>4</th>\n",
       "      <td>462669</td>\n",
       "      <td>Female</td>\n",
       "      <td>Yes</td>\n",
       "      <td>40</td>\n",
       "      <td>Yes</td>\n",
       "      <td>Entertainment</td>\n",
       "      <td>NaN</td>\n",
       "      <td>High</td>\n",
       "      <td>6.0</td>\n",
       "      <td>3</td>\n",
       "    </tr>\n",
       "    <tr>\n",
       "      <th>...</th>\n",
       "      <td>...</td>\n",
       "      <td>...</td>\n",
       "      <td>...</td>\n",
       "      <td>...</td>\n",
       "      <td>...</td>\n",
       "      <td>...</td>\n",
       "      <td>...</td>\n",
       "      <td>...</td>\n",
       "      <td>...</td>\n",
       "      <td>...</td>\n",
       "    </tr>\n",
       "    <tr>\n",
       "      <th>8063</th>\n",
       "      <td>464018</td>\n",
       "      <td>Male</td>\n",
       "      <td>No</td>\n",
       "      <td>22</td>\n",
       "      <td>No</td>\n",
       "      <td>NaN</td>\n",
       "      <td>0.0</td>\n",
       "      <td>Low</td>\n",
       "      <td>7.0</td>\n",
       "      <td>1</td>\n",
       "    </tr>\n",
       "    <tr>\n",
       "      <th>8064</th>\n",
       "      <td>464685</td>\n",
       "      <td>Male</td>\n",
       "      <td>No</td>\n",
       "      <td>35</td>\n",
       "      <td>No</td>\n",
       "      <td>Executive</td>\n",
       "      <td>3.0</td>\n",
       "      <td>Low</td>\n",
       "      <td>4.0</td>\n",
       "      <td>1</td>\n",
       "    </tr>\n",
       "    <tr>\n",
       "      <th>8065</th>\n",
       "      <td>465406</td>\n",
       "      <td>Female</td>\n",
       "      <td>No</td>\n",
       "      <td>33</td>\n",
       "      <td>Yes</td>\n",
       "      <td>Healthcare</td>\n",
       "      <td>1.0</td>\n",
       "      <td>Low</td>\n",
       "      <td>1.0</td>\n",
       "      <td>1</td>\n",
       "    </tr>\n",
       "    <tr>\n",
       "      <th>8066</th>\n",
       "      <td>467299</td>\n",
       "      <td>Female</td>\n",
       "      <td>No</td>\n",
       "      <td>27</td>\n",
       "      <td>Yes</td>\n",
       "      <td>Healthcare</td>\n",
       "      <td>1.0</td>\n",
       "      <td>Low</td>\n",
       "      <td>4.0</td>\n",
       "      <td>1</td>\n",
       "    </tr>\n",
       "    <tr>\n",
       "      <th>8067</th>\n",
       "      <td>461879</td>\n",
       "      <td>Male</td>\n",
       "      <td>Yes</td>\n",
       "      <td>37</td>\n",
       "      <td>Yes</td>\n",
       "      <td>Executive</td>\n",
       "      <td>0.0</td>\n",
       "      <td>Average</td>\n",
       "      <td>3.0</td>\n",
       "      <td>0</td>\n",
       "    </tr>\n",
       "  </tbody>\n",
       "</table>\n",
       "<p>8068 rows × 10 columns</p>\n",
       "</div>"
      ],
      "text/plain": [
       "          ID  Gender Ever_Married  Age Graduated     Profession  \\\n",
       "0     462809    Male           No   22        No     Healthcare   \n",
       "1     462643  Female          Yes   38       Yes       Engineer   \n",
       "2     466315  Female          Yes   67       Yes       Engineer   \n",
       "3     461735    Male          Yes   67       Yes         Lawyer   \n",
       "4     462669  Female          Yes   40       Yes  Entertainment   \n",
       "...      ...     ...          ...  ...       ...            ...   \n",
       "8063  464018    Male           No   22        No            NaN   \n",
       "8064  464685    Male           No   35        No      Executive   \n",
       "8065  465406  Female           No   33       Yes     Healthcare   \n",
       "8066  467299  Female           No   27       Yes     Healthcare   \n",
       "8067  461879    Male          Yes   37       Yes      Executive   \n",
       "\n",
       "      Work_Experience Spending_Score  Family_Size  Clusters  \n",
       "0                 1.0            Low          4.0         1  \n",
       "1                 NaN        Average          3.0         0  \n",
       "2                 1.0            Low          1.0         2  \n",
       "3                 0.0           High          2.0         3  \n",
       "4                 NaN           High          6.0         3  \n",
       "...               ...            ...          ...       ...  \n",
       "8063              0.0            Low          7.0         1  \n",
       "8064              3.0            Low          4.0         1  \n",
       "8065              1.0            Low          1.0         1  \n",
       "8066              1.0            Low          4.0         1  \n",
       "8067              0.0        Average          3.0         0  \n",
       "\n",
       "[8068 rows x 10 columns]"
      ]
     },
     "execution_count": 15,
     "metadata": {},
     "output_type": "execute_result"
    }
   ],
   "source": [
    "data3"
   ]
  },
  {
   "cell_type": "code",
   "execution_count": 16,
   "id": "365e91ce",
   "metadata": {
    "ExecuteTime": {
     "end_time": "2022-06-26T21:25:21.597066Z",
     "start_time": "2022-06-26T21:25:21.568576Z"
    }
   },
   "outputs": [
    {
     "name": "stdout",
     "output_type": "stream",
     "text": [
      "Male      1139\n",
      "Female     824\n",
      "Name: Gender, dtype: int64\n",
      "Yes    1927\n",
      "Name: Ever_Married, dtype: int64\n",
      "Yes    1446\n",
      "No      496\n",
      "Name: Graduated, dtype: int64\n",
      "Artist           1011\n",
      "Entertainment     319\n",
      "Engineer          221\n",
      "Doctor            177\n",
      "Executive          75\n",
      "Homemaker          60\n",
      "Healthcare         42\n",
      "Marketing          17\n",
      "Lawyer              7\n",
      "Name: Profession, dtype: int64\n",
      "Average    1963\n",
      "Name: Spending_Score, dtype: int64\n"
     ]
    }
   ],
   "source": [
    "cluster1 = data3[data3['Clusters'] ==0]\n",
    "dist_variables(cluster1,col)"
   ]
  },
  {
   "cell_type": "code",
   "execution_count": 17,
   "id": "49ea1378",
   "metadata": {
    "ExecuteTime": {
     "end_time": "2022-06-26T21:25:23.272012Z",
     "start_time": "2022-06-26T21:25:23.243880Z"
    }
   },
   "outputs": [
    {
     "name": "stdout",
     "output_type": "stream",
     "text": [
      "Male      1058\n",
      "Female     978\n",
      "Name: Gender, dtype: int64\n",
      "No     1943\n",
      "Yes      65\n",
      "Name: Ever_Married, dtype: int64\n",
      "No     1656\n",
      "Yes     367\n",
      "Name: Graduated, dtype: int64\n",
      "Healthcare       1174\n",
      "Doctor            202\n",
      "Engineer          157\n",
      "Marketing         146\n",
      "Entertainment     146\n",
      "Artist             72\n",
      "Homemaker          68\n",
      "Executive          29\n",
      "Lawyer              9\n",
      "Name: Profession, dtype: int64\n",
      "Low     2034\n",
      "High       2\n",
      "Name: Spending_Score, dtype: int64\n"
     ]
    }
   ],
   "source": [
    "cluster2 = data3[data3['Clusters'] ==1]\n",
    "dist_variables(cluster2,col)"
   ]
  },
  {
   "cell_type": "code",
   "execution_count": 18,
   "id": "1146cb3e",
   "metadata": {
    "ExecuteTime": {
     "end_time": "2022-06-26T21:25:25.631802Z",
     "start_time": "2022-06-26T21:25:25.601804Z"
    }
   },
   "outputs": [
    {
     "name": "stdout",
     "output_type": "stream",
     "text": [
      "Female    1270\n",
      "Male      1249\n",
      "Name: Gender, dtype: int64\n",
      "No     1337\n",
      "Yes    1149\n",
      "Name: Ever_Married, dtype: int64\n",
      "Yes    2200\n",
      "No      293\n",
      "Name: Graduated, dtype: int64\n",
      "Artist           1191\n",
      "Entertainment     438\n",
      "Doctor            278\n",
      "Engineer          261\n",
      "Marketing          96\n",
      "Homemaker          92\n",
      "Healthcare         73\n",
      "Lawyer             28\n",
      "Executive          16\n",
      "Name: Profession, dtype: int64\n",
      "Low    2519\n",
      "Name: Spending_Score, dtype: int64\n"
     ]
    }
   ],
   "source": [
    "cluster3 = data3[data3['Clusters'] ==2]\n",
    "\n",
    "dist_variables(cluster3,col)"
   ]
  },
  {
   "cell_type": "code",
   "execution_count": 20,
   "id": "118c82af",
   "metadata": {
    "ExecuteTime": {
     "end_time": "2022-06-26T21:25:48.132002Z",
     "start_time": "2022-06-26T21:25:48.102755Z"
    }
   },
   "outputs": [
    {
     "name": "stdout",
     "output_type": "stream",
     "text": [
      "Male      971\n",
      "Female    579\n",
      "Name: Gender, dtype: int64\n",
      "Yes    1502\n",
      "No        5\n",
      "Name: Ever_Married, dtype: int64\n",
      "Yes    955\n",
      "No     577\n",
      "Name: Graduated, dtype: int64\n",
      "Lawyer           579\n",
      "Executive        479\n",
      "Artist           242\n",
      "Engineer          60\n",
      "Entertainment     46\n",
      "Healthcare        43\n",
      "Marketing         33\n",
      "Doctor            31\n",
      "Homemaker         26\n",
      "Name: Profession, dtype: int64\n",
      "High       1214\n",
      "Low         325\n",
      "Average      11\n",
      "Name: Spending_Score, dtype: int64\n"
     ]
    }
   ],
   "source": [
    "cluster4 = data3[data3['Clusters'] ==3]\n",
    "\n",
    "dist_variables(cluster4,col)"
   ]
  },
  {
   "cell_type": "code",
   "execution_count": 21,
   "id": "6b328978",
   "metadata": {
    "ExecuteTime": {
     "end_time": "2022-06-26T21:25:55.580725Z",
     "start_time": "2022-06-26T21:25:55.526948Z"
    }
   },
   "outputs": [
    {
     "data": {
      "text/html": [
       "<div>\n",
       "<style scoped>\n",
       "    .dataframe tbody tr th:only-of-type {\n",
       "        vertical-align: middle;\n",
       "    }\n",
       "\n",
       "    .dataframe tbody tr th {\n",
       "        vertical-align: top;\n",
       "    }\n",
       "\n",
       "    .dataframe thead th {\n",
       "        text-align: right;\n",
       "    }\n",
       "</style>\n",
       "<table border=\"1\" class=\"dataframe\">\n",
       "  <thead>\n",
       "    <tr style=\"text-align: right;\">\n",
       "      <th></th>\n",
       "      <th>Clusters</th>\n",
       "      <th>count</th>\n",
       "      <th>mean</th>\n",
       "      <th>std</th>\n",
       "      <th>min</th>\n",
       "      <th>25%</th>\n",
       "      <th>50%</th>\n",
       "      <th>75%</th>\n",
       "      <th>max</th>\n",
       "    </tr>\n",
       "  </thead>\n",
       "  <tbody>\n",
       "    <tr>\n",
       "      <th>0</th>\n",
       "      <td>0</td>\n",
       "      <td>1963.0</td>\n",
       "      <td>46.71</td>\n",
       "      <td>11.13</td>\n",
       "      <td>18.0</td>\n",
       "      <td>38.0</td>\n",
       "      <td>46.0</td>\n",
       "      <td>55.0</td>\n",
       "      <td>89.0</td>\n",
       "    </tr>\n",
       "    <tr>\n",
       "      <th>1</th>\n",
       "      <td>1</td>\n",
       "      <td>2036.0</td>\n",
       "      <td>27.51</td>\n",
       "      <td>7.63</td>\n",
       "      <td>18.0</td>\n",
       "      <td>22.0</td>\n",
       "      <td>27.0</td>\n",
       "      <td>31.0</td>\n",
       "      <td>82.0</td>\n",
       "    </tr>\n",
       "    <tr>\n",
       "      <th>2</th>\n",
       "      <td>2</td>\n",
       "      <td>2519.0</td>\n",
       "      <td>43.07</td>\n",
       "      <td>12.29</td>\n",
       "      <td>18.0</td>\n",
       "      <td>35.0</td>\n",
       "      <td>41.0</td>\n",
       "      <td>50.0</td>\n",
       "      <td>89.0</td>\n",
       "    </tr>\n",
       "    <tr>\n",
       "      <th>3</th>\n",
       "      <td>3</td>\n",
       "      <td>1550.0</td>\n",
       "      <td>60.96</td>\n",
       "      <td>17.91</td>\n",
       "      <td>18.0</td>\n",
       "      <td>46.0</td>\n",
       "      <td>63.0</td>\n",
       "      <td>76.0</td>\n",
       "      <td>89.0</td>\n",
       "    </tr>\n",
       "  </tbody>\n",
       "</table>\n",
       "</div>"
      ],
      "text/plain": [
       "   Clusters   count   mean    std   min   25%   50%   75%   max\n",
       "0         0  1963.0  46.71  11.13  18.0  38.0  46.0  55.0  89.0\n",
       "1         1  2036.0  27.51   7.63  18.0  22.0  27.0  31.0  82.0\n",
       "2         2  2519.0  43.07  12.29  18.0  35.0  41.0  50.0  89.0\n",
       "3         3  1550.0  60.96  17.91  18.0  46.0  63.0  76.0  89.0"
      ]
     },
     "execution_count": 21,
     "metadata": {},
     "output_type": "execute_result"
    }
   ],
   "source": [
    "data3.groupby(['Clusters'])['Age'].describe().reset_index().round(2)"
   ]
  },
  {
   "cell_type": "code",
   "execution_count": 22,
   "id": "58754314",
   "metadata": {
    "ExecuteTime": {
     "end_time": "2022-06-26T21:25:58.621909Z",
     "start_time": "2022-06-26T21:25:58.372688Z"
    }
   },
   "outputs": [
    {
     "data": {
      "text/plain": [
       "<AxesSubplot:xlabel='Clusters', ylabel='Age'>"
      ]
     },
     "execution_count": 22,
     "metadata": {},
     "output_type": "execute_result"
    },
    {
     "data": {
      "image/png": "[encoded data removed]",
      "text/plain": [
       "<Figure size 504x360 with 1 Axes>"
      ]
     },
     "metadata": {
      "needs_background": "light"
     },
     "output_type": "display_data"
    }
   ],
   "source": [
    "plt.figure(figsize=(7, 5))\n",
    "data_mean = data3.groupby(['Clusters'], as_index=False).mean().round(2)\n",
    "sns.barplot(x='Clusters',y='Age',data=data_mean)"
   ]
  },
  {
   "cell_type": "code",
   "execution_count": 23,
   "id": "6666105f",
   "metadata": {
    "ExecuteTime": {
     "end_time": "2022-06-26T21:26:01.921546Z",
     "start_time": "2022-06-26T21:26:01.871758Z"
    }
   },
   "outputs": [
    {
     "data": {
      "text/html": [
       "<div>\n",
       "<style scoped>\n",
       "    .dataframe tbody tr th:only-of-type {\n",
       "        vertical-align: middle;\n",
       "    }\n",
       "\n",
       "    .dataframe tbody tr th {\n",
       "        vertical-align: top;\n",
       "    }\n",
       "\n",
       "    .dataframe thead th {\n",
       "        text-align: right;\n",
       "    }\n",
       "</style>\n",
       "<table border=\"1\" class=\"dataframe\">\n",
       "  <thead>\n",
       "    <tr style=\"text-align: right;\">\n",
       "      <th></th>\n",
       "      <th>Clusters</th>\n",
       "      <th>count</th>\n",
       "      <th>mean</th>\n",
       "      <th>std</th>\n",
       "      <th>min</th>\n",
       "      <th>25%</th>\n",
       "      <th>50%</th>\n",
       "      <th>75%</th>\n",
       "      <th>max</th>\n",
       "    </tr>\n",
       "  </thead>\n",
       "  <tbody>\n",
       "    <tr>\n",
       "      <th>0</th>\n",
       "      <td>0</td>\n",
       "      <td>1755.0</td>\n",
       "      <td>2.52</td>\n",
       "      <td>3.24</td>\n",
       "      <td>0.0</td>\n",
       "      <td>0.0</td>\n",
       "      <td>1.0</td>\n",
       "      <td>4.0</td>\n",
       "      <td>14.0</td>\n",
       "    </tr>\n",
       "    <tr>\n",
       "      <th>1</th>\n",
       "      <td>1</td>\n",
       "      <td>1800.0</td>\n",
       "      <td>2.62</td>\n",
       "      <td>3.41</td>\n",
       "      <td>0.0</td>\n",
       "      <td>0.0</td>\n",
       "      <td>1.0</td>\n",
       "      <td>4.0</td>\n",
       "      <td>14.0</td>\n",
       "    </tr>\n",
       "    <tr>\n",
       "      <th>2</th>\n",
       "      <td>2</td>\n",
       "      <td>2326.0</td>\n",
       "      <td>3.16</td>\n",
       "      <td>3.71</td>\n",
       "      <td>0.0</td>\n",
       "      <td>0.0</td>\n",
       "      <td>1.0</td>\n",
       "      <td>6.0</td>\n",
       "      <td>14.0</td>\n",
       "    </tr>\n",
       "    <tr>\n",
       "      <th>3</th>\n",
       "      <td>3</td>\n",
       "      <td>1358.0</td>\n",
       "      <td>1.93</td>\n",
       "      <td>2.88</td>\n",
       "      <td>0.0</td>\n",
       "      <td>0.0</td>\n",
       "      <td>1.0</td>\n",
       "      <td>2.0</td>\n",
       "      <td>14.0</td>\n",
       "    </tr>\n",
       "  </tbody>\n",
       "</table>\n",
       "</div>"
      ],
      "text/plain": [
       "   Clusters   count  mean   std  min  25%  50%  75%   max\n",
       "0         0  1755.0  2.52  3.24  0.0  0.0  1.0  4.0  14.0\n",
       "1         1  1800.0  2.62  3.41  0.0  0.0  1.0  4.0  14.0\n",
       "2         2  2326.0  3.16  3.71  0.0  0.0  1.0  6.0  14.0\n",
       "3         3  1358.0  1.93  2.88  0.0  0.0  1.0  2.0  14.0"
      ]
     },
     "execution_count": 23,
     "metadata": {},
     "output_type": "execute_result"
    }
   ],
   "source": [
    "data3.groupby(['Clusters'])['Work_Experience'].describe().reset_index().round(2)"
   ]
  },
  {
   "cell_type": "code",
   "execution_count": 25,
   "id": "1e2be0e2",
   "metadata": {
    "ExecuteTime": {
     "end_time": "2022-06-26T21:26:13.631762Z",
     "start_time": "2022-06-26T21:26:13.392165Z"
    }
   },
   "outputs": [
    {
     "data": {
      "text/plain": [
       "<AxesSubplot:xlabel='Clusters', ylabel='Work_Experience'>"
      ]
     },
     "execution_count": 25,
     "metadata": {},
     "output_type": "execute_result"
    },
    {
     "data": {
      "image/png": "[encoded data removed]",
      "text/plain": [
       "<Figure size 504x360 with 1 Axes>"
      ]
     },
     "metadata": {
      "needs_background": "light"
     },
     "output_type": "display_data"
    }
   ],
   "source": [
    "plt.figure(figsize=(7, 5))\n",
    "data_mean = data3.groupby(['Clusters'], as_index=False).mean().round(2)\n",
    "sns.barplot(x='Clusters',y='Work_Experience',data=data_mean)"
   ]
  },
  {
   "cell_type": "code",
   "execution_count": 26,
   "id": "8e5e834a",
   "metadata": {
    "ExecuteTime": {
     "end_time": "2022-06-26T21:26:17.801766Z",
     "start_time": "2022-06-26T21:26:17.742108Z"
    }
   },
   "outputs": [
    {
     "data": {
      "text/html": [
       "<div>\n",
       "<style scoped>\n",
       "    .dataframe tbody tr th:only-of-type {\n",
       "        vertical-align: middle;\n",
       "    }\n",
       "\n",
       "    .dataframe tbody tr th {\n",
       "        vertical-align: top;\n",
       "    }\n",
       "\n",
       "    .dataframe thead th {\n",
       "        text-align: right;\n",
       "    }\n",
       "</style>\n",
       "<table border=\"1\" class=\"dataframe\">\n",
       "  <thead>\n",
       "    <tr style=\"text-align: right;\">\n",
       "      <th></th>\n",
       "      <th>Clusters</th>\n",
       "      <th>count</th>\n",
       "      <th>mean</th>\n",
       "      <th>std</th>\n",
       "      <th>min</th>\n",
       "      <th>25%</th>\n",
       "      <th>50%</th>\n",
       "      <th>75%</th>\n",
       "      <th>max</th>\n",
       "    </tr>\n",
       "  </thead>\n",
       "  <tbody>\n",
       "    <tr>\n",
       "      <th>0</th>\n",
       "      <td>0</td>\n",
       "      <td>1932.0</td>\n",
       "      <td>3.11</td>\n",
       "      <td>1.24</td>\n",
       "      <td>1.0</td>\n",
       "      <td>2.0</td>\n",
       "      <td>3.0</td>\n",
       "      <td>4.0</td>\n",
       "      <td>9.0</td>\n",
       "    </tr>\n",
       "    <tr>\n",
       "      <th>1</th>\n",
       "      <td>1</td>\n",
       "      <td>1913.0</td>\n",
       "      <td>3.67</td>\n",
       "      <td>1.68</td>\n",
       "      <td>1.0</td>\n",
       "      <td>3.0</td>\n",
       "      <td>4.0</td>\n",
       "      <td>5.0</td>\n",
       "      <td>9.0</td>\n",
       "    </tr>\n",
       "    <tr>\n",
       "      <th>2</th>\n",
       "      <td>2</td>\n",
       "      <td>2395.0</td>\n",
       "      <td>2.04</td>\n",
       "      <td>1.25</td>\n",
       "      <td>1.0</td>\n",
       "      <td>1.0</td>\n",
       "      <td>2.0</td>\n",
       "      <td>3.0</td>\n",
       "      <td>9.0</td>\n",
       "    </tr>\n",
       "    <tr>\n",
       "      <th>3</th>\n",
       "      <td>3</td>\n",
       "      <td>1493.0</td>\n",
       "      <td>2.75</td>\n",
       "      <td>1.43</td>\n",
       "      <td>1.0</td>\n",
       "      <td>2.0</td>\n",
       "      <td>2.0</td>\n",
       "      <td>4.0</td>\n",
       "      <td>9.0</td>\n",
       "    </tr>\n",
       "  </tbody>\n",
       "</table>\n",
       "</div>"
      ],
      "text/plain": [
       "   Clusters   count  mean   std  min  25%  50%  75%  max\n",
       "0         0  1932.0  3.11  1.24  1.0  2.0  3.0  4.0  9.0\n",
       "1         1  1913.0  3.67  1.68  1.0  3.0  4.0  5.0  9.0\n",
       "2         2  2395.0  2.04  1.25  1.0  1.0  2.0  3.0  9.0\n",
       "3         3  1493.0  2.75  1.43  1.0  2.0  2.0  4.0  9.0"
      ]
     },
     "execution_count": 26,
     "metadata": {},
     "output_type": "execute_result"
    }
   ],
   "source": [
    "data3.groupby(['Clusters'])['Family_Size'].describe().reset_index().round(2)"
   ]
  },
  {
   "cell_type": "code",
   "execution_count": 27,
   "id": "e3df2b79",
   "metadata": {
    "ExecuteTime": {
     "end_time": "2022-06-26T21:26:21.041513Z",
     "start_time": "2022-06-26T21:26:20.787592Z"
    }
   },
   "outputs": [
    {
     "data": {
      "text/plain": [
       "<AxesSubplot:xlabel='Clusters', ylabel='Family_Size'>"
      ]
     },
     "execution_count": 27,
     "metadata": {},
     "output_type": "execute_result"
    },
    {
     "data": {
      "image/png": "[encoded data removed]",
      "text/plain": [
       "<Figure size 504x360 with 1 Axes>"
      ]
     },
     "metadata": {
      "needs_background": "light"
     },
     "output_type": "display_data"
    }
   ],
   "source": [
    "plt.figure(figsize=(7, 5))\n",
    "data_mean = data3.groupby(['Clusters'], as_index=False).mean().round(2)\n",
    "sns.barplot(x='Clusters',y='Family_Size',data=data_mean)"
   ]
  },
  {
   "cell_type": "code",
   "execution_count": null,
   "id": "6e6ff568",
   "metadata": {},
   "outputs": [],
   "source": []
  }
 ],
 "metadata": {
  "kernelspec": {
   "display_name": "Python 3 (ipykernel)",
   "language": "python",
   "name": "python3"
  },
  "language_info": {
   "codemirror_mode": {
    "name": "ipython",
    "version": 3
   },
   "file_extension": ".py",
   "mimetype": "text/x-python",
   "name": "python",
   "nbconvert_exporter": "python",
   "pygments_lexer": "ipython3",
   "version": "3.9.7"
  },
  "toc": {
   "base_numbering": 1,
   "nav_menu": {},
   "number_sections": true,
   "sideBar": true,
   "skip_h1_title": false,
   "title_cell": "Table of Contents",
   "title_sidebar": "Contents",
   "toc_cell": false,
   "toc_position": {
    "height": "calc(100% - 180px)",
    "left": "10px",
    "top": "150px",
    "width": "320px"
   },
   "toc_section_display": true,
   "toc_window_display": true
  },
  "varInspector": {
   "cols": {
    "lenName": 16,
    "lenType": 16,
    "lenVar": 40
   },
   "kernels_config": {
    "python": {
     "delete_cmd_postfix": "",
     "delete_cmd_prefix": "del ",
     "library": "var_list.py",
     "varRefreshCmd": "print(var_dic_list())"
    },
    "r": {
     "delete_cmd_postfix": ") ",
     "delete_cmd_prefix": "rm(",
     "library": "var_list.r",
     "varRefreshCmd": "cat(var_dic_list()) "
    }
   },
   "types_to_exclude": [
    "module",
    "function",
    "builtin_function_or_method",
    "instance",
    "_Feature"
   ],
   "window_display": false
  }
 },
 "nbformat": 4,
 "nbformat_minor": 5
}
